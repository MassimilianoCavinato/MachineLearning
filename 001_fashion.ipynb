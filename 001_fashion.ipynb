{
  "nbformat": 4,
  "nbformat_minor": 0,
  "metadata": {
    "colab": {
      "name": "001-fashion.ipynb",
      "version": "0.3.2",
      "provenance": [],
      "include_colab_link": true
    },
    "kernelspec": {
      "name": "python3",
      "display_name": "Python 3"
    },
    "accelerator": "GPU"
  },
  "cells": [
    {
      "cell_type": "markdown",
      "metadata": {
        "id": "view-in-github",
        "colab_type": "text"
      },
      "source": [
        "<a href=\"https://colab.research.google.com/github/MassimilianoCavinato/MachineLearning/blob/master/001_fashion.ipynb\" target=\"_parent\"><img src=\"https://colab.research.google.com/assets/colab-badge.svg\" alt=\"Open In Colab\"/></a>"
      ]
    },
    {
      "cell_type": "markdown",
      "metadata": {
        "id": "GBYOKv_XwZ4A",
        "colab_type": "text"
      },
      "source": [
        "**Importing libraries**"
      ]
    },
    {
      "cell_type": "code",
      "metadata": {
        "id": "8gl1yj8twYOR",
        "colab_type": "code",
        "colab": {}
      },
      "source": [
        "import tensorflow as tf\n",
        "from tensorflow import keras\n",
        "import numpy as np\n",
        "import matplotlib.pyplot as plt"
      ],
      "execution_count": 0,
      "outputs": []
    },
    {
      "cell_type": "markdown",
      "metadata": {
        "id": "lqAiiToD9mlv",
        "colab_type": "text"
      },
      "source": [
        "**Get \"Fashion Mnist\" dataset from keras** [mnist_dataset](https://storage.googleapis.com/kaggle-datasets-images/2243/3791/9384af51de8baa77f6320901f53bd26b/data-original.png)"
      ]
    },
    {
      "cell_type": "code",
      "metadata": {
        "id": "Pn-jtG7H9srU",
        "colab_type": "code",
        "colab": {}
      },
      "source": [
        "# X is image, Y is label #we wanna know Y\n",
        "fashion_mnist = keras.datasets.fashion_mnist\n",
        "(X_train, Y_train), (X_test, Y_test) = fashion_mnist.load_data()"
      ],
      "execution_count": 0,
      "outputs": []
    },
    {
      "cell_type": "markdown",
      "metadata": {
        "id": "OYUgPt3f_Cbk",
        "colab_type": "text"
      },
      "source": [
        "**Labels** labels don't come with fashion_mnist dataset"
      ]
    },
    {
      "cell_type": "code",
      "metadata": {
        "id": "jvZGIV_W_Gj0",
        "colab_type": "code",
        "colab": {}
      },
      "source": [
        "labels = [\n",
        "    \"T-shirt/top\", \n",
        "    \"Trouser\", \n",
        "    \"Pullover\", \n",
        "    \"Dress\", \n",
        "    \"Coat\", \n",
        "    \"Sandal\", \n",
        "    \"Shirt\", \n",
        "    \"Sneaker\", \n",
        "    \"Bag\",\n",
        "    \"Ankle boot\"\n",
        "]"
      ],
      "execution_count": 0,
      "outputs": []
    },
    {
      "cell_type": "code",
      "metadata": {
        "id": "E5u43JOe_vpW",
        "colab_type": "code",
        "colab": {}
      },
      "source": [
        "X_train.shape \n",
        "X_train = X_train / 255.0\n",
        "Y_train = Y_train / 255.0\n",
        "#60000 images 28x28 px "
      ],
      "execution_count": 0,
      "outputs": []
    },
    {
      "cell_type": "code",
      "metadata": {
        "id": "ItZ_6-43B5WR",
        "colab_type": "code",
        "outputId": "683e0593-6361-41ab-9ea6-9f64c720c0d7",
        "colab": {
          "base_uri": "https://localhost:8080/",
          "height": 269
        }
      },
      "source": [
        "plt.figure()\n",
        "plt.imshow(X_train[0])\n",
        "plt.colorbar()\n",
        "plt.gca().grid(False)\n",
        "for i in range(9):\n",
        "\tpyplot.subplot(330 + 1 + i)\n",
        "\tpyplot.imshow(X_train[i], cmap=pyplot.get_cmap('gray'))\n",
        "# show the figure\n",
        "pyplot.show()"
      ],
      "execution_count": 0,
      "outputs": [
        {
          "output_type": "display_data",
          "data": {
            "image/png": "[encoded data removed]",
            "text/plain": [
              "<Figure size 432x288 with 2 Axes>"
            ]
          },
          "metadata": {
            "tags": []
          }
        }
      ]
    }
  ]
}